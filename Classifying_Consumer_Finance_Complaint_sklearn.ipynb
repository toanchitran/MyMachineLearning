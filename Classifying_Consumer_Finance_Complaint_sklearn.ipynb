{
  "nbformat": 4,
  "nbformat_minor": 0,
  "metadata": {
    "colab": {
      "name": "Classifying Consumer Finance Complaint - sklearn.ipynb",
      "version": "0.3.2",
      "provenance": [],
      "collapsed_sections": [],
      "include_colab_link": true
    },
    "kernelspec": {
      "display_name": "Python 3",
      "language": "python",
      "name": "python3"
    },
    "accelerator": "GPU"
  },
  "cells": [
    {
      "cell_type": "markdown",
      "metadata": {
        "id": "view-in-github",
        "colab_type": "text"
      },
      "source": [
        "[![Open In Colab](https://colab.research.google.com/assets/colab-badge.svg)](https://colab.research.google.com/github/toanchitran/MyMachineLearning/blob/master/Classifying_Consumer_Finance_Complaint_sklearn.ipynb)"
      ]
    },
    {
      "metadata": {
        "_uuid": "2f943057a3f44aece2b44916ffacd0b0094d70df",
        "id": "F2q9_0K2FXo8",
        "colab_type": "text"
      },
      "cell_type": "markdown",
      "source": [
        "This is what we are going to do today: Classifying Consumer Finance Complaints into 12 pre-defined classes. The data can be downloaded from [data.gov.](https://catalog.data.gov/dataset/consumer-complaint-database)"
      ]
    },
    {
      "metadata": {
        "id": "OlOOvUu2g6u2",
        "colab_type": "code",
        "trusted": true,
        "_uuid": "66028ae4f54b07dd316d19bd40ec069ac99c9a0d",
        "colab": {}
      },
      "cell_type": "code",
      "source": [
        "#Download data\n",
        "!wget --header 'Host: data.consumerfinance.gov' --user-agent 'Mozilla/5.0 (Macintosh; Intel Mac OS X 10.13; rv:62.0) Gecko/20100101 Firefox/62.0' --header 'Accept: text/html,application/xhtml+xml,application/xml;q=0.9,*/*;q=0.8' --header 'Accept-Language: en-US,en;q=0.5' --referer 'https://catalog.data.gov/' --header 'DNT: 1' --header 'Upgrade-Insecure-Requests: 1' 'https://data.consumerfinance.gov/api/views/s6ew-h6mp/rows.csv?accessType=DOWNLOAD' --output-document 'Consumer_Complaints.csv'"
      ],
      "execution_count": 0,
      "outputs": []
    },
    {
      "metadata": {
        "id": "yUCdNPOYhdLR",
        "colab_type": "code",
        "trusted": true,
        "_uuid": "5d59b634bf4f7e1cf86bd75be5914ae7c5843869",
        "colab": {}
      },
      "cell_type": "code",
      "source": [
        "import pandas as pd\n",
        "import numpy as np\n",
        "df = pd.read_csv('Consumer_Complaints.csv')\n",
        "\n",
        "# To avoid memory error\n",
        "np.random.seed(10)\n",
        "remove_n = 1070000\n",
        "drop_indices = np.random.choice(df.index, remove_n, replace=False)\n",
        "df = df.drop(drop_indices)\n",
        "df.shape"
      ],
      "execution_count": 0,
      "outputs": []
    },
    {
      "metadata": {
        "id": "YzzEEv1Gh2xM",
        "colab_type": "code",
        "trusted": true,
        "_uuid": "9608043a29ad72a634c00273fb33fb57b69360ab",
        "colab": {}
      },
      "cell_type": "code",
      "source": [
        "df.head()"
      ],
      "execution_count": 0,
      "outputs": []
    },
    {
      "metadata": {
        "id": "mxqjVeF6h6Lo",
        "colab_type": "code",
        "trusted": true,
        "_uuid": "b07e3db4efc440a4e345dfe009fe1d31a49296f0",
        "colab": {}
      },
      "cell_type": "code",
      "source": [
        "from io import StringIO\n",
        "\n",
        "col = ['Product', 'Consumer complaint narrative']\n",
        "df = df[col]\n",
        "df = df[pd.notnull(df['Consumer complaint narrative'])]\n",
        "\n",
        "df.columns = ['Product', 'Consumer_complaint_narrative']\n",
        "\n",
        "df['category_id'] = df['Product'].factorize()[0]\n",
        "\n",
        "category_id_df = df[['Product', 'category_id']].drop_duplicates().sort_values('category_id')\n",
        "\n",
        "category_to_id = dict(category_id_df.values)\n",
        "\n",
        "id_to_category = dict(category_id_df[['category_id', 'Product']].values)\n",
        "\n",
        "df.head()"
      ],
      "execution_count": 0,
      "outputs": []
    },
    {
      "metadata": {
        "id": "OPrCeBzyjdqA",
        "colab_type": "code",
        "trusted": true,
        "_uuid": "3b4584fcaf1c51ca5274603b6cf6bbb6c5939083",
        "colab": {}
      },
      "cell_type": "code",
      "source": [
        "import matplotlib.pyplot as plt\n",
        "%matplotlib inline\n",
        "fig = plt.figure(figsize=(10,12))\n",
        "df.groupby('Product').Consumer_complaint_narrative.count().plot.bar(ylim=0)\n",
        "plt.show()"
      ],
      "execution_count": 0,
      "outputs": []
    },
    {
      "metadata": {
        "id": "uLM_a-7KkH0i",
        "colab_type": "code",
        "trusted": true,
        "_uuid": "c70eb043f1ccfeab614ca6e6caedd4d30549a828",
        "colab": {}
      },
      "cell_type": "code",
      "source": [
        "from sklearn.feature_extraction.text import TfidfVectorizer\n",
        "\n",
        "tfidf = TfidfVectorizer(sublinear_tf = True,\n",
        "                        min_df=5,\n",
        "                        norm='l2',\n",
        "                        encoding='utf-8',\n",
        "                        ngram_range= (1,2),\n",
        "                        stop_words = 'english'\n",
        "                       )\n",
        "\n",
        "features = tfidf.fit_transform(df.Consumer_complaint_narrative).toarray()\n",
        "\n",
        "labels = df.category_id\n",
        "\n",
        "features.shape"
      ],
      "execution_count": 0,
      "outputs": []
    },
    {
      "metadata": {
        "id": "c5hQv6Hxov1f",
        "colab_type": "code",
        "trusted": true,
        "_uuid": "1c3918cf107464f2536e6b009a26b6bc84cd2b36",
        "colab": {}
      },
      "cell_type": "code",
      "source": [
        "from sklearn.feature_selection import chi2\n",
        "import numpy as np\n",
        "N=2\n",
        "for Product, category_id in sorted(category_to_id.items()):\n",
        "    features_chi2 = chi2(features, labels == category_id)\n",
        "    indices = np.argsort(features_chi2[0])\n",
        "    feature_names = np.array(tfidf.get_feature_names())[indices]\n",
        "    unigrams = [v for v in feature_names if len(v.split(' ')) == 1]\n",
        "    bigrams = [v for v in feature_names if len(v.split(' ')) == 2]\n",
        "    print(\"# '{}':\".format(Product))\n",
        "    print(\"  . Most correlated unigrams:\\n. {}\".format('\\n. '.join(unigrams[-N:])))\n",
        "    print(\"  . Most correlated bigrams:\\n. {}\".format('\\n. '.join(bigrams[-N:])))"
      ],
      "execution_count": 0,
      "outputs": []
    },
    {
      "metadata": {
        "id": "P-nS-7gppQic",
        "colab_type": "code",
        "trusted": true,
        "_uuid": "8c3971c933b73043a3a4232f32354ec812435510",
        "colab": {}
      },
      "cell_type": "code",
      "source": [
        "from sklearn.model_selection import train_test_split\n",
        "from sklearn.feature_extraction.text import CountVectorizer\n",
        "from sklearn.feature_extraction.text import TfidfTransformer\n",
        "from sklearn.naive_bayes import MultinomialNB\n",
        "\n",
        "X_train, X_test, y_train, y_test = train_test_split(df['Consumer_complaint_narrative'], df['Product'], random_state = 0)\n",
        "count_vect = CountVectorizer()\n",
        "X_train_counts = count_vect.fit_transform(X_train)\n",
        "tfidf_transformer = TfidfTransformer()\n",
        "X_train_tfidf = tfidf_transformer.fit_transform(X_train_counts)\n",
        "\n",
        "clf = MultinomialNB().fit(X_train_tfidf, y_train)"
      ],
      "execution_count": 0,
      "outputs": []
    },
    {
      "metadata": {
        "id": "29Kv_xgxpUpN",
        "colab_type": "code",
        "trusted": true,
        "_uuid": "b3f9eea7f7efe32f02f81f21a92e1c22a5aaa75f",
        "colab": {}
      },
      "cell_type": "code",
      "source": [
        "print(clf.predict(count_vect.transform([\"This company refuses to provide me verification and validation of debt per my right under the FDCPA. I do not believe this debt is mine.\"])))"
      ],
      "execution_count": 0,
      "outputs": []
    },
    {
      "metadata": {
        "id": "y3yka84-ph8k",
        "colab_type": "code",
        "trusted": true,
        "_uuid": "0ad698aa07fd7a7f89c239a1f9bd4197c54aee18",
        "colab": {}
      },
      "cell_type": "code",
      "source": [
        "from sklearn.linear_model import LogisticRegression\n",
        "from sklearn.ensemble import RandomForestClassifier\n",
        "from sklearn.svm import LinearSVC\n",
        "\n",
        "from sklearn.model_selection import cross_val_score\n",
        "\n",
        "models = [RandomForestClassifier(n_estimators=200, max_depth=3, random_state=0),\n",
        "          LinearSVC(),\n",
        "          MultinomialNB(),\n",
        "          LogisticRegression(random_state=0),\n",
        "]\n",
        "CV = 4\n",
        "cv_df = pd.DataFrame(index=range(CV * len(models)))\n",
        "entries = []\n",
        "for model in models:\n",
        "    model_name = model.__class__.__name__\n",
        "    accuracies = cross_val_score(model, features, labels, scoring='accuracy', cv=CV)\n",
        "    for fold_idx, accuracy in enumerate(accuracies):\n",
        "        entries.append((model_name, fold_idx, accuracy))\n",
        "cv_df = pd.DataFrame(entries, columns=['model_name', 'fold_idx', 'accuracy'])\n",
        "\n",
        "import seaborn as sns\n",
        "\n",
        "sns.boxplot(x='model_name', y='accuracy', data=cv_df)\n",
        "sns.stripplot(x='model_name', y='accuracy', data=cv_df, \n",
        "              size=8, jitter=True, edgecolor=\"gray\", linewidth=2)\n",
        "plt.show()"
      ],
      "execution_count": 0,
      "outputs": []
    },
    {
      "metadata": {
        "id": "SXC6kMgFpoDB",
        "colab_type": "code",
        "trusted": true,
        "_uuid": "82c229ae767e26349d6d010b4bb2030884cff7aa",
        "colab": {}
      },
      "cell_type": "code",
      "source": [
        "cv_df.groupby('model_name').accuracy.mean()"
      ],
      "execution_count": 0,
      "outputs": []
    },
    {
      "metadata": {
        "id": "8lVs1jDnpqtQ",
        "colab_type": "code",
        "trusted": true,
        "_uuid": "d3c9f4c2295f281b9c9e9a221efd6dcf14b1ec08",
        "colab": {}
      },
      "cell_type": "code",
      "source": [
        "model = LinearSVC()\n",
        "\n",
        "X_train, X_test, y_train, y_test, indices_train, indices_test = train_test_split(features, labels, df.index, test_size=0.33, random_state=0)\n",
        "model.fit(X_train, y_train)\n",
        "y_pred = model.predict(X_test)\n",
        "\n",
        "from sklearn.metrics import confusion_matrix\n",
        "\n",
        "conf_mat = confusion_matrix(y_test, y_pred)\n",
        "fig, ax = plt.subplots(figsize=(10,10))\n",
        "sns.heatmap(conf_mat, annot=True, fmt='d',\n",
        "            xticklabels=category_id_df.Product.values, yticklabels=category_id_df.Product.values)\n",
        "plt.ylabel('Actual')\n",
        "plt.xlabel('Predicted')\n",
        "plt.show()"
      ],
      "execution_count": 0,
      "outputs": []
    },
    {
      "metadata": {
        "id": "kZVfh0BbptqF",
        "colab_type": "code",
        "trusted": true,
        "_uuid": "6695f844ce3bc4f11a5cbd2096e60aff6c580dea",
        "colab": {}
      },
      "cell_type": "code",
      "source": [
        "from IPython.display import display\n",
        "\n",
        "for predicted in category_id_df.category_id:\n",
        "    for actual in category_id_df.category_id:\n",
        "        if predicted != actual and conf_mat[actual, predicted] >= 10:\n",
        "            print(\"'{}' predicted as '{}' : {} examples.\".format(id_to_category[actual], id_to_category[predicted], conf_mat[actual, predicted]))\n",
        "            display(df.loc[indices_test[(y_test == actual) & (y_pred == predicted)]][['Product', 'Consumer_complaint_narrative']])\n",
        "            print('')"
      ],
      "execution_count": 0,
      "outputs": []
    },
    {
      "metadata": {
        "id": "73mh2_Xqpzek",
        "colab_type": "code",
        "trusted": true,
        "_uuid": "85e9dce72a955db73fd7e1012af6f81db9bb226a",
        "colab": {}
      },
      "cell_type": "code",
      "source": [
        "model.fit(features, labels)\n",
        "\n",
        "N = 2\n",
        "for Product, category_id in sorted(category_to_id.items()):\n",
        "    indices = np.argsort(model.coef_[category_id])\n",
        "    feature_names = np.array(tfidf.get_feature_names())[indices]\n",
        "    unigrams = [v for v in reversed(feature_names) if len(v.split(' ')) == 1][:N]\n",
        "    bigrams = [v for v in reversed(feature_names) if len(v.split(' ')) == 2][:N]\n",
        "    print(\"# '{}':\".format(Product))\n",
        "    print(\"  . Top unigrams:\\n       . {}\".format('\\n       . '.join(unigrams)))\n",
        "    print(\"  . Top bigrams:\\n       . {}\".format('\\n       . '.join(bigrams)))"
      ],
      "execution_count": 0,
      "outputs": []
    },
    {
      "metadata": {
        "id": "QHP-dad_p0Yr",
        "colab_type": "code",
        "trusted": true,
        "_uuid": "c132a30d185934224290f374f67c2c4fa760ad34",
        "colab": {}
      },
      "cell_type": "code",
      "source": [
        "from sklearn import metrics\n",
        "print(metrics.classification_report(y_test, y_pred, target_names=df['Product'].unique()))"
      ],
      "execution_count": 0,
      "outputs": []
    }
  ]
}